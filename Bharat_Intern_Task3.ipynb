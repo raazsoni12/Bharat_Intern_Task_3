{
 "cells": [
  {
   "cell_type": "code",
   "execution_count": 1,
   "id": "3946bb99",
   "metadata": {},
   "outputs": [],
   "source": [
    "import numpy as np\n",
    "import pandas as pd\n",
    "import matplotlib.pyplot as plt\n",
    "import seaborn as sns\n",
    "from sklearn.preprocessing import LabelEncoder\n",
    "from sklearn.model_selection import train_test_split\n",
    "from sklearn.linear_model import LogisticRegression\n",
    "from sklearn.neighbors import KNeighborsClassifier\n",
    "from sklearn.svm import SVC\n",
    "from sklearn.naive_bayes import GaussianNB\n",
    "from sklearn.tree import DecisionTreeClassifier\n",
    "from sklearn.ensemble import RandomForestClassifier"
   ]
  },
  {
   "cell_type": "markdown",
   "id": "c061f5cb",
   "metadata": {},
   "source": [
    "# Gathering dataset:"
   ]
  },
  {
   "cell_type": "code",
   "execution_count": 3,
   "id": "1754eac9",
   "metadata": {},
   "outputs": [],
   "source": [
    "dataset = pd.read_csv( 'iris (1).csv' )\n",
    "dataset.dropna( inplace = True )"
   ]
  },
  {
   "cell_type": "code",
   "execution_count": 4,
   "id": "9b6fc28e",
   "metadata": {},
   "outputs": [
    {
     "data": {
      "text/html": [
       "<div>\n",
       "<style scoped>\n",
       "    .dataframe tbody tr th:only-of-type {\n",
       "        vertical-align: middle;\n",
       "    }\n",
       "\n",
       "    .dataframe tbody tr th {\n",
       "        vertical-align: top;\n",
       "    }\n",
       "\n",
       "    .dataframe thead th {\n",
       "        text-align: right;\n",
       "    }\n",
       "</style>\n",
       "<table border=\"1\" class=\"dataframe\">\n",
       "  <thead>\n",
       "    <tr style=\"text-align: right;\">\n",
       "      <th></th>\n",
       "      <th>Id</th>\n",
       "      <th>SepalLengthCm</th>\n",
       "      <th>SepalWidthCm</th>\n",
       "      <th>PetalLengthCm</th>\n",
       "      <th>PetalWidthCm</th>\n",
       "      <th>Species</th>\n",
       "    </tr>\n",
       "  </thead>\n",
       "  <tbody>\n",
       "    <tr>\n",
       "      <th>0</th>\n",
       "      <td>1</td>\n",
       "      <td>5.1</td>\n",
       "      <td>3.5</td>\n",
       "      <td>1.4</td>\n",
       "      <td>0.2</td>\n",
       "      <td>Iris-setosa</td>\n",
       "    </tr>\n",
       "    <tr>\n",
       "      <th>1</th>\n",
       "      <td>2</td>\n",
       "      <td>4.9</td>\n",
       "      <td>3.0</td>\n",
       "      <td>1.4</td>\n",
       "      <td>0.2</td>\n",
       "      <td>Iris-setosa</td>\n",
       "    </tr>\n",
       "    <tr>\n",
       "      <th>2</th>\n",
       "      <td>3</td>\n",
       "      <td>4.7</td>\n",
       "      <td>3.2</td>\n",
       "      <td>1.3</td>\n",
       "      <td>0.2</td>\n",
       "      <td>Iris-setosa</td>\n",
       "    </tr>\n",
       "    <tr>\n",
       "      <th>3</th>\n",
       "      <td>4</td>\n",
       "      <td>4.6</td>\n",
       "      <td>3.1</td>\n",
       "      <td>1.5</td>\n",
       "      <td>0.2</td>\n",
       "      <td>Iris-setosa</td>\n",
       "    </tr>\n",
       "    <tr>\n",
       "      <th>4</th>\n",
       "      <td>5</td>\n",
       "      <td>5.0</td>\n",
       "      <td>3.6</td>\n",
       "      <td>1.4</td>\n",
       "      <td>0.2</td>\n",
       "      <td>Iris-setosa</td>\n",
       "    </tr>\n",
       "    <tr>\n",
       "      <th>...</th>\n",
       "      <td>...</td>\n",
       "      <td>...</td>\n",
       "      <td>...</td>\n",
       "      <td>...</td>\n",
       "      <td>...</td>\n",
       "      <td>...</td>\n",
       "    </tr>\n",
       "    <tr>\n",
       "      <th>145</th>\n",
       "      <td>146</td>\n",
       "      <td>6.7</td>\n",
       "      <td>3.0</td>\n",
       "      <td>5.2</td>\n",
       "      <td>2.3</td>\n",
       "      <td>Iris-virginica</td>\n",
       "    </tr>\n",
       "    <tr>\n",
       "      <th>146</th>\n",
       "      <td>147</td>\n",
       "      <td>6.3</td>\n",
       "      <td>2.5</td>\n",
       "      <td>5.0</td>\n",
       "      <td>1.9</td>\n",
       "      <td>Iris-virginica</td>\n",
       "    </tr>\n",
       "    <tr>\n",
       "      <th>147</th>\n",
       "      <td>148</td>\n",
       "      <td>6.5</td>\n",
       "      <td>3.0</td>\n",
       "      <td>5.2</td>\n",
       "      <td>2.0</td>\n",
       "      <td>Iris-virginica</td>\n",
       "    </tr>\n",
       "    <tr>\n",
       "      <th>148</th>\n",
       "      <td>149</td>\n",
       "      <td>6.2</td>\n",
       "      <td>3.4</td>\n",
       "      <td>5.4</td>\n",
       "      <td>2.3</td>\n",
       "      <td>Iris-virginica</td>\n",
       "    </tr>\n",
       "    <tr>\n",
       "      <th>149</th>\n",
       "      <td>150</td>\n",
       "      <td>5.9</td>\n",
       "      <td>3.0</td>\n",
       "      <td>5.1</td>\n",
       "      <td>1.8</td>\n",
       "      <td>Iris-virginica</td>\n",
       "    </tr>\n",
       "  </tbody>\n",
       "</table>\n",
       "<p>150 rows × 6 columns</p>\n",
       "</div>"
      ],
      "text/plain": [
       "      Id  SepalLengthCm  SepalWidthCm  PetalLengthCm  PetalWidthCm  \\\n",
       "0      1            5.1           3.5            1.4           0.2   \n",
       "1      2            4.9           3.0            1.4           0.2   \n",
       "2      3            4.7           3.2            1.3           0.2   \n",
       "3      4            4.6           3.1            1.5           0.2   \n",
       "4      5            5.0           3.6            1.4           0.2   \n",
       "..   ...            ...           ...            ...           ...   \n",
       "145  146            6.7           3.0            5.2           2.3   \n",
       "146  147            6.3           2.5            5.0           1.9   \n",
       "147  148            6.5           3.0            5.2           2.0   \n",
       "148  149            6.2           3.4            5.4           2.3   \n",
       "149  150            5.9           3.0            5.1           1.8   \n",
       "\n",
       "            Species  \n",
       "0       Iris-setosa  \n",
       "1       Iris-setosa  \n",
       "2       Iris-setosa  \n",
       "3       Iris-setosa  \n",
       "4       Iris-setosa  \n",
       "..              ...  \n",
       "145  Iris-virginica  \n",
       "146  Iris-virginica  \n",
       "147  Iris-virginica  \n",
       "148  Iris-virginica  \n",
       "149  Iris-virginica  \n",
       "\n",
       "[150 rows x 6 columns]"
      ]
     },
     "execution_count": 4,
     "metadata": {},
     "output_type": "execute_result"
    }
   ],
   "source": [
    "dataset"
   ]
  },
  {
   "cell_type": "markdown",
   "id": "c1ad1f6a",
   "metadata": {},
   "source": [
    "## Data preprocessing and splitting data:"
   ]
  },
  {
   "cell_type": "code",
   "execution_count": 5,
   "id": "d9191119",
   "metadata": {},
   "outputs": [],
   "source": [
    "y = dataset[ 'Species' ].values\n",
    "x = dataset.drop( [ 'Id', 'Species' ], axis = 1 ).values\n",
    "label_encoder = LabelEncoder()\n",
    "y = label_encoder.fit_transform( y )"
   ]
  },
  {
   "cell_type": "code",
   "execution_count": 6,
   "id": "6f679b21",
   "metadata": {},
   "outputs": [],
   "source": [
    "x_train, x_test, y_train, y_test = train_test_split( x, y, test_size = 0.2, random_state = 0 )"
   ]
  },
  {
   "cell_type": "markdown",
   "id": "50cdfdb9",
   "metadata": {},
   "source": [
    "# Training different classification models:"
   ]
  },
  {
   "cell_type": "code",
   "execution_count": 7,
   "id": "7eb766ab",
   "metadata": {},
   "outputs": [
    {
     "name": "stdout",
     "output_type": "stream",
     "text": [
      "Test accuracy of Logistic Regression is 100.0%.\n"
     ]
    },
    {
     "name": "stderr",
     "output_type": "stream",
     "text": [
      "C:\\New folder\\Lib\\site-packages\\sklearn\\linear_model\\_logistic.py:460: ConvergenceWarning: lbfgs failed to converge (status=1):\n",
      "STOP: TOTAL NO. of ITERATIONS REACHED LIMIT.\n",
      "\n",
      "Increase the number of iterations (max_iter) or scale the data as shown in:\n",
      "    https://scikit-learn.org/stable/modules/preprocessing.html\n",
      "Please also refer to the documentation for alternative solver options:\n",
      "    https://scikit-learn.org/stable/modules/linear_model.html#logistic-regression\n",
      "  n_iter_i = _check_optimize_result(\n"
     ]
    }
   ],
   "source": [
    "log_regr_model = LogisticRegression()\n",
    "log_regr_model.fit( x_train, y_train )\n",
    "print( 'Test accuracy of Logistic Regression is {}%.'.format( log_regr_model.score( x_test, y_test ) * 100 ) )"
   ]
  },
  {
   "cell_type": "code",
   "execution_count": 8,
   "id": "0233701f",
   "metadata": {},
   "outputs": [
    {
     "data": {
      "image/png": "[encoded data removed]",
      "text/plain": [
       "<Figure size 640x480 with 1 Axes>"
      ]
     },
     "metadata": {},
     "output_type": "display_data"
    },
    {
     "name": "stdout",
     "output_type": "stream",
     "text": [
      "Test accuracy of KNN is 100.0% for no, of neighbors 1.\n"
     ]
    }
   ],
   "source": [
    "accuracies = []\n",
    "for i in range( 1, 20 ):\n",
    "  knn_model = KNeighborsClassifier( n_neighbors = i )\n",
    "  knn_model.fit( x_train, y_train )\n",
    "  accuracies.append( knn_model.score( x_test, y_test ) * 100 )\n",
    "plt.plot( range( 1, 20 ), accuracies )\n",
    "plt.title( 'Plot of %Accuracy of KNN wrt no, of neighbors' )\n",
    "plt.xlabel( 'no, of neighbors' )\n",
    "plt.ylabel( '%Accuracy' )\n",
    "plt.show()\n",
    "print( 'Test accuracy of KNN is {}% for no, of neighbors {}.'.format( max( accuracies ), accuracies.index( max( accuracies ) ) + 1 ) )"
   ]
  },
  {
   "cell_type": "code",
   "execution_count": 9,
   "id": "13bb18ae",
   "metadata": {},
   "outputs": [
    {
     "name": "stdout",
     "output_type": "stream",
     "text": [
      "Test accuracy of SVM is 100.0%.\n"
     ]
    }
   ],
   "source": [
    "svm_model = SVC( random_state = 1 )\n",
    "svm_model.fit( x_train, y_train )\n",
    "print( 'Test accuracy of SVM is {}%.'.format( svm_model.score( x_test, y_test ) * 100 ) )"
   ]
  },
  {
   "cell_type": "code",
   "execution_count": 10,
   "id": "fae9ca02",
   "metadata": {},
   "outputs": [
    {
     "name": "stdout",
     "output_type": "stream",
     "text": [
      "Test accuracy of nb_model is 96.66666666666667%.\n"
     ]
    }
   ],
   "source": [
    "nb_model = GaussianNB()\n",
    "nb_model.fit( x_train, y_train )\n",
    "print( 'Test accuracy of nb_model is {}%.'.format( nb_model.score( x_test, y_test ) * 100 ) )"
   ]
  },
  {
   "cell_type": "code",
   "execution_count": 11,
   "id": "65eaf6f9",
   "metadata": {},
   "outputs": [
    {
     "name": "stdout",
     "output_type": "stream",
     "text": [
      "Test accuracy of Decision Trees is 100.0%.\n"
     ]
    }
   ],
   "source": [
    "dt_model = DecisionTreeClassifier()\n",
    "dt_model.fit( x_train, y_train )\n",
    "print( 'Test accuracy of Decision Trees is {}%.'.format( dt_model.score( x_test, y_test ) * 100 ) )"
   ]
  },
  {
   "cell_type": "code",
   "execution_count": 12,
   "id": "494a92d5",
   "metadata": {},
   "outputs": [
    {
     "name": "stdout",
     "output_type": "stream",
     "text": [
      "Test accuracy of Random Forest is 100.0%.\n"
     ]
    }
   ],
   "source": [
    "rf_model = RandomForestClassifier( n_estimators = 1000, random_state = 1 )\n",
    "rf_model.fit( x_train, y_train )\n",
    "print( 'Test accuracy of Random Forest is {}%.'.format( rf_model.score( x_test, y_test ) * 100 ) )"
   ]
  },
  {
   "cell_type": "markdown",
   "id": "3cc1eaa0",
   "metadata": {},
   "source": [
    "# Comparing different classification models:"
   ]
  },
  {
   "cell_type": "code",
   "execution_count": 13,
   "id": "19b44302",
   "metadata": {},
   "outputs": [
    {
     "data": {
      "image/png": "[encoded data removed]",
      "text/plain": [
       "<Figure size 1600x500 with 1 Axes>"
      ]
     },
     "metadata": {},
     "output_type": "display_data"
    }
   ],
   "source": [
    "methods = [ 'Logistic Regression', 'KNN', 'SVM', 'Naive Bayes', 'Decision Trees', 'Random Forest' ]\n",
    "scores = [ log_regr_model.score( x_test, y_test ) * 100, max( accuracies ), svm_model.score( x_test, y_test ) * 100, nb_model.score( x_test, y_test ) * 100, dt_model.score( x_test, y_test ) * 100, rf_model.score( x_test, y_test ) * 100 ]\n",
    "colors = [ 'purple', 'blue', 'green', 'yellow', 'orange', 'red' ]\n",
    "sns.set_style( 'whitegrid' )\n",
    "plt.figure( figsize = ( 16, 5 ) )\n",
    "sns.barplot( x = methods, y = scores, palette = colors )\n",
    "plt.title( 'Comparing different models' )\n",
    "plt.xlabel( 'Models' )\n",
    "plt.ylabel( '%Accuracies' )\n",
    "plt.show()"
   ]
  },
  {
   "cell_type": "code",
   "execution_count": 14,
   "id": "50b05a31",
   "metadata": {},
   "outputs": [
    {
     "name": "stdout",
     "output_type": "stream",
     "text": [
      "As seen above, everything has full accuracies except naive bayes.\n",
      "So, we use Logistic Regression for our predictions.\n"
     ]
    }
   ],
   "source": [
    "print( 'As seen above, everything has full accuracies except naive bayes.' )\n",
    "print( 'So, we use Logistic Regression for our predictions.' )"
   ]
  },
  {
   "cell_type": "markdown",
   "id": "98a9315c",
   "metadata": {},
   "source": [
    "# Making predictions:"
   ]
  },
  {
   "cell_type": "code",
   "execution_count": 15,
   "id": "c2292a73",
   "metadata": {},
   "outputs": [
    {
     "name": "stdout",
     "output_type": "stream",
     "text": [
      "(30, 4)\n"
     ]
    }
   ],
   "source": [
    "print( x_test.shape )"
   ]
  },
  {
   "cell_type": "code",
   "execution_count": 16,
   "id": "49bdf868",
   "metadata": {},
   "outputs": [
    {
     "name": "stdout",
     "output_type": "stream",
     "text": [
      "The prediction for the data is: Iris-virginica.\n"
     ]
    }
   ],
   "source": [
    "data_for_pred = [ [ 30.55, 40, 12, 76 ] ]\n",
    "predictions = log_regr_model.predict( data_for_pred )\n",
    "classes = [ 'Iris-setosa', 'Iris-versicolor', 'Iris-virginica' ]\n",
    "predicted_class = classes[ predictions[ 0 ] ]\n",
    "print( 'The prediction for the data is: {}.'.format( predicted_class ) )"
   ]
  },
  {
   "cell_type": "code",
   "execution_count": null,
   "id": "33ae1b17",
   "metadata": {},
   "outputs": [],
   "source": []
  }
 ],
 "metadata": {
  "kernelspec": {
   "display_name": "Python 3 (ipykernel)",
   "language": "python",
   "name": "python3"
  },
  "language_info": {
   "codemirror_mode": {
    "name": "ipython",
    "version": 3
   },
   "file_extension": ".py",
   "mimetype": "text/x-python",
   "name": "python",
   "nbconvert_exporter": "python",
   "pygments_lexer": "ipython3",
   "version": "3.11.4"
  }
 },
 "nbformat": 4,
 "nbformat_minor": 5
}
